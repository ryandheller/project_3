{
 "cells": [
  {
   "cell_type": "code",
   "execution_count": 8,
   "metadata": {},
   "outputs": [],
   "source": [
    "import pandas as pd\n",
    "import concurrent.futures\n",
    "import urllib.request\n",
    "from bs4 import BeautifulSoup\n",
    "import requests\n",
    "import glob\n",
    "import pickle"
   ]
  },
  {
   "cell_type": "code",
   "execution_count": 2,
   "metadata": {},
   "outputs": [],
   "source": [
    "score_url_dates = [2010,2011,2012,2013,2014,2015,2016,2017,2018,2019]\n",
    "urls = []\n",
    "for dat in score_url_dates:\n",
    "    date = f'https://www.hockey-reference.com/leagues/NHL_{dat}_games.html'\n",
    "    urls.append(date)\n",
    "dfs = []\n",
    "for url in urls:\n",
    "    page = pd.read_html(url)\n",
    "    dfs.append(page[0])\n",
    "df = pd.concat([dfs[i] for i in range(len(dfs))])"
   ]
  },
  {
   "cell_type": "code",
   "execution_count": 3,
   "metadata": {},
   "outputs": [],
   "source": [
    "df.columns = ['Date','Away','VG','Home','HG','OT','ATT','LOG','Notes']\n",
    "results_df = df[['Date','Away','VG','Home','HG','OT','ATT']]"
   ]
  },
  {
   "cell_type": "code",
   "execution_count": 4,
   "metadata": {},
   "outputs": [],
   "source": [
    "odds_date_list = []\n",
    "for df in dfs:\n",
    "    dates = list(df['Date'].unique())\n",
    "    for date in dates:\n",
    "        odds_date_list.append(date)"
   ]
  },
  {
   "cell_type": "code",
   "execution_count": 5,
   "metadata": {},
   "outputs": [],
   "source": [
    "oddss = {}\n",
    "for date in odds_date_list:\n",
    "    broken = date.replace('-','')\n",
    "    url = f'https://www.sportsbookreview.com/betting-odds/nhl-hockey/?date={broken}'\n",
    "    oddss[date] = url"
   ]
  },
  {
   "cell_type": "code",
   "execution_count": 6,
   "metadata": {},
   "outputs": [
    {
     "data": {
      "text/plain": [
       "1690"
      ]
     },
     "execution_count": 6,
     "metadata": {},
     "output_type": "execute_result"
    }
   ],
   "source": [
    "oddss_urls = []\n",
    "for k,v in oddss.items():\n",
    "    oddss_urls.append(v)\n",
    "len(oddss_urls)"
   ]
  },
  {
   "cell_type": "code",
   "execution_count": 9,
   "metadata": {},
   "outputs": [],
   "source": [
    "existing_filed = [x for x in glob.glob('htmlFolder/*.html')]\n",
    "def load_html(url):\n",
    "    fullname = \"htmlFolder\\ \"+ url.split('=')[1] + \".html\"\n",
    "    if fullname not in existing_filed:\n",
    "        resp = requests.get(url)\n",
    "        soup = BeautifulSoup(resp.text,\"html.parser\")\n",
    "#         fullname = \"htmlFolder\\ \"+ url.split('=')[1] + \".html\"\n",
    "        with open(fullname, 'w', encoding=\"utf-8\") as f:\n",
    "            f.write(str(soup))\n",
    "\n",
    "with concurrent.futures.ThreadPoolExecutor(max_workers=6) as executor:\n",
    "    # Start the load operations and mark each future with its URL\n",
    "    future_to_url = {executor.submit(load_html, url): url for url in oddss_urls}\n",
    "    for future in concurrent.futures.as_completed(future_to_url):\n",
    "        url = future_to_url[future]\n",
    "        try:\n",
    "            data = future.result()\n",
    "        except Exception as exc:  'a'\n",
    "#             print('%r generated an exception: %s' % (url, exc))\n",
    "        else:  'b'\n",
    "#             print('%r page is %d bytes' % (url, len(data)))\n",
    "# with open(fullname, 'w', encoding=\"utf-8\") as f:\n",
    "#     f.write(str(soup))"
   ]
  },
  {
   "cell_type": "code",
   "execution_count": 10,
   "metadata": {},
   "outputs": [
    {
     "name": "stdout",
     "output_type": "stream",
     "text": [
      "11844\n"
     ]
    }
   ],
   "source": [
    "existing_files = [x for x in glob.glob('htmlFolder/*.html')]\n",
    "z= []\n",
    "list_o_dicts = {}\n",
    "allGames = []\n",
    "count = 0\n",
    "for file in existing_files:\n",
    "    date_pre = file.split('\\\\')[1].split('.')[0].split(' ')[1]\n",
    "    date = date_pre[:4] + '-' + date_pre[4:6] + '-' + date_pre[6:]\n",
    "    if date not in list_o_dicts.keys():\n",
    "        list_o_dicts[date] = []\n",
    "    with open(file, 'r', encoding='utf-8') as f:\n",
    "        soup = BeautifulSoup(f, \"html.parser\")\n",
    "        idk = soup.find_all('span',{'class':'opener'})\n",
    "        idx = soup.find_all('span')\n",
    "#     resp = requests.get(file)\n",
    "#     soup = BeautifulSoup(resp.text,\"html.parser\")\n",
    "#     idk = soup.find_all('span',{'class':'opener'})\n",
    "        x = [str(i) for i in idk]\n",
    "        x = [i for i in x if i!='<span class=\"opener\">-</span>']\n",
    "        c = 0\n",
    "        l=[]\n",
    "        #     final = []\n",
    "        for i in x:\n",
    "            val = i.split(\">\")[1].split(\"<\")[0]\n",
    "            if '%' not in val:\n",
    "                l.append(val)\n",
    "    #         l.append(val)\n",
    "    #     print(l)\n",
    "    #     idx = soup.find_all('span')\n",
    "        idx = [str(i) for i in idx if 'class=\"_3O1Gx\"' in str(i)]\n",
    "        j = []\n",
    "        for ik in idx:\n",
    "            vals = ik.split('>')[1].split('<')[0]\n",
    "            j.append(vals)\n",
    "    #     print(j)\n",
    "        aa = list(zip(j,l))\n",
    "        mess = []\n",
    "        for a in aa:\n",
    "            z.append(a)\n",
    "            c+=1\n",
    "            if c%2==0:\n",
    "                mess.append(z)\n",
    "                z = []\n",
    "        bigger_dict = []\n",
    "        for mes in mess:\n",
    "            away = mes[0][0]\n",
    "            home = mes[1][0]\n",
    "            h_odd = mes[1][1]\n",
    "            a_odd = mes[0][1]\n",
    "            smol_dict = {'Home':home,'Away':away,'H_odd':h_odd,\"A_odd\":a_odd}\n",
    "            tempDict = smol_dict.copy()\n",
    "            tempDict[\"Date\"]= date\n",
    "            allGames.append(tempDict)\n",
    "            bigger_dict.append(smol_dict)\n",
    "        list_o_dicts[date].extend(bigger_dict)\n",
    "        pop = {date:bigger_dict}\n",
    "        list_o_dicts[date] = bigger_dict\n",
    "        count +=1\n",
    "print(len(allGames))"
   ]
  },
  {
   "cell_type": "code",
   "execution_count": 11,
   "metadata": {},
   "outputs": [
    {
     "data": {
      "text/plain": [
       "(11844, 5)"
      ]
     },
     "execution_count": 11,
     "metadata": {},
     "output_type": "execute_result"
    }
   ],
   "source": [
    "odds_df = pd.DataFrame(allGames)\n",
    "odds_df.shape"
   ]
  },
  {
   "cell_type": "code",
   "execution_count": 13,
   "metadata": {},
   "outputs": [
    {
     "data": {
      "text/html": [
       "<div>\n",
       "<style scoped>\n",
       "    .dataframe tbody tr th:only-of-type {\n",
       "        vertical-align: middle;\n",
       "    }\n",
       "\n",
       "    .dataframe tbody tr th {\n",
       "        vertical-align: top;\n",
       "    }\n",
       "\n",
       "    .dataframe thead th {\n",
       "        text-align: right;\n",
       "    }\n",
       "</style>\n",
       "<table border=\"1\" class=\"dataframe\">\n",
       "  <thead>\n",
       "    <tr style=\"text-align: right;\">\n",
       "      <th></th>\n",
       "      <th>A_odd</th>\n",
       "      <th>Away</th>\n",
       "      <th>Date</th>\n",
       "      <th>H_odd</th>\n",
       "      <th>Home</th>\n",
       "    </tr>\n",
       "  </thead>\n",
       "  <tbody>\n",
       "  </tbody>\n",
       "</table>\n",
       "</div>"
      ],
      "text/plain": [
       "Empty DataFrame\n",
       "Columns: [A_odd, Away, Date, H_odd, Home]\n",
       "Index: []"
      ]
     },
     "execution_count": 13,
     "metadata": {},
     "output_type": "execute_result"
    }
   ],
   "source": [
    "odds_df[\"Home\"] = odds_df[\"Home\"].apply(lambda x: \"Detroit\" if x==\"Unknown\" else x)\n",
    "odds_df[odds_df['Home']=='Unknown']"
   ]
  },
  {
   "cell_type": "code",
   "execution_count": 16,
   "metadata": {},
   "outputs": [
    {
     "data": {
      "text/html": [
       "<div>\n",
       "<style scoped>\n",
       "    .dataframe tbody tr th:only-of-type {\n",
       "        vertical-align: middle;\n",
       "    }\n",
       "\n",
       "    .dataframe tbody tr th {\n",
       "        vertical-align: top;\n",
       "    }\n",
       "\n",
       "    .dataframe thead th {\n",
       "        text-align: right;\n",
       "    }\n",
       "</style>\n",
       "<table border=\"1\" class=\"dataframe\">\n",
       "  <thead>\n",
       "    <tr style=\"text-align: right;\">\n",
       "      <th></th>\n",
       "      <th>A_odd</th>\n",
       "      <th>Away</th>\n",
       "      <th>Date</th>\n",
       "      <th>H_odd</th>\n",
       "      <th>Home</th>\n",
       "    </tr>\n",
       "  </thead>\n",
       "  <tbody>\n",
       "  </tbody>\n",
       "</table>\n",
       "</div>"
      ],
      "text/plain": [
       "Empty DataFrame\n",
       "Columns: [A_odd, Away, Date, H_odd, Home]\n",
       "Index: []"
      ]
     },
     "execution_count": 16,
     "metadata": {},
     "output_type": "execute_result"
    }
   ],
   "source": [
    "odds_df[\"Away\"] = odds_df[\"Away\"].apply(lambda x: \"Toronto\" if x==\"Unknown\" else x)\n",
    "odds_df[odds_df['Away']=='Unknown']"
   ]
  },
  {
   "cell_type": "code",
   "execution_count": 18,
   "metadata": {},
   "outputs": [],
   "source": [
    "team_names = list(results_df['Away'].unique())\n",
    "city_names = list(odds_df['Away'].unique())"
   ]
  },
  {
   "cell_type": "code",
   "execution_count": 19,
   "metadata": {},
   "outputs": [],
   "source": [
    "team_dict = {}\n",
    "team_dict['Anaheim'] = 'Anaheim Ducks'\n",
    "team_dict['Arizona'] = 'Arizona Coyotes'\n",
    "team_dict['Boston'] = 'Boston Bruins'\n",
    "team_dict['Buffalo'] = 'Buffalo Sabres'\n",
    "team_dict['Calgary'] = 'Calgary Flames'\n",
    "team_dict['Carolina'] = 'Carolina Hurricanes'\n",
    "team_dict['Chicago'] = 'Chicago Blackhawks'\n",
    "team_dict['Colorado'] = 'Colorado Avalanche'\n",
    "team_dict['Columbus'] = 'Columbus Blue Jackets'\n",
    "team_dict['Dallas'] = 'Dallas Stars'\n",
    "team_dict['Detroit'] = 'Detroit Red Wings'\n",
    "team_dict['Edmonton'] = 'Edmonton Oilers'\n",
    "team_dict['Florida'] = 'Florida Panthers'\n",
    "team_dict['Los Angeles'] = 'Los Angeles Kings'\n",
    "team_dict['Minnesota'] = 'Minnesota Wild'\n",
    "team_dict['Montreal'] = 'Montreal Canadiens'\n",
    "team_dict['N.Y. Islanders'] = 'New York Islanders'\n",
    "team_dict['N.Y. Rangers'] = 'New York Rangers'\n",
    "team_dict['Nashville'] = 'Nashville Predators'\n",
    "team_dict['New Jersey'] = 'New Jersey Devils'\n",
    "team_dict['Ottawa'] = 'Ottawa Senators'\n",
    "team_dict['Philadelphia'] = 'Philadelphia Flyers'\n",
    "team_dict['Pittsburgh'] = 'Pittsburgh Penguins'\n",
    "team_dict['San Jose'] = 'San Jose Sharks'\n",
    "team_dict['St. Louis'] = 'St. Louis Blues'\n",
    "team_dict['Tampa Bay'] = 'Tampa Bay Lightning'\n",
    "team_dict['Toronto'] = 'Toronto Maple Leafs'\n",
    "team_dict['Vancouver'] = 'Vancouver Canucks'\n",
    "team_dict['Vegas'] = 'Vegas Golden Knights'\n",
    "team_dict['Washington'] = 'Washington Capitals'\n",
    "team_dict['Winnipeg'] = 'Winnipeg Jets'"
   ]
  },
  {
   "cell_type": "code",
   "execution_count": 20,
   "metadata": {},
   "outputs": [
    {
     "data": {
      "text/plain": [
       "True"
      ]
     },
     "execution_count": 20,
     "metadata": {},
     "output_type": "execute_result"
    }
   ],
   "source": [
    "rename_dict = {}\n",
    "rename_dict['Anaheim Ducks'] = 'Anaheim Ducks'\n",
    "rename_dict['Arizona Coyotes'] = 'Arizona Coyotes'\n",
    "rename_dict['Atlanta Thrashers'] = 'Winnipeg Jets'\n",
    "rename_dict['Boston Bruins'] = 'Boston Bruins'\n",
    "rename_dict['Buffalo Sabres'] = 'Buffalo Sabres'\n",
    "rename_dict['Calgary Flames'] = 'Calgary Flames'\n",
    "rename_dict['Carolina Hurricanes'] = 'Carolina Hurricanes'\n",
    "rename_dict['Chicago Blackhawks'] = 'Chicago Blackhawks'\n",
    "rename_dict['Colorado Avalanche'] = 'Colorado Avalanche'\n",
    "rename_dict['Columbus Blue Jackets'] = 'Columbus Blue Jackets'\n",
    "rename_dict['Dallas Stars'] = 'Dallas Stars'\n",
    "rename_dict['Detroit Red Wings'] = 'Detroit Red Wings'\n",
    "rename_dict['Edmonton Oilers'] = 'Edmonton Oilers'\n",
    "rename_dict['Florida Panthers'] = 'Florida Panthers'\n",
    "rename_dict['Los Angeles Kings'] = 'Los Angeles Kings'\n",
    "rename_dict['Minnesota Wild'] = 'Minnesota Wild'\n",
    "rename_dict['Montreal Canadiens'] = 'Montreal Canadiens'\n",
    "rename_dict['Nashville Predators'] = 'Nashville Predators'\n",
    "rename_dict['New York Rangers'] = 'New York Rangers'\n",
    "rename_dict['New York Islanders'] = 'New York Islanders'\n",
    "rename_dict['Ottawa Senators'] = 'Ottawa Senators'\n",
    "rename_dict['Philadelphia Flyers'] = 'Philadelphia Flyers'\n",
    "rename_dict['Phoenix Coyotes'] = 'Arizona Coyotes'\n",
    "rename_dict['Pittsburgh Penguins'] = 'Pittsburgh Penguins'\n",
    "rename_dict['San Jose Sharks'] = 'San Jose Sharks'\n",
    "rename_dict['St. Louis Blues'] = 'St. Louis Blues'\n",
    "rename_dict['Tampa Bay Lightning'] = 'Tampa Bay Lightning'\n",
    "rename_dict['Toronto Maple Leafs'] = 'Toronto Maple Leafs'\n",
    "rename_dict['Vancouver Canucks'] = 'Vancouver Canucks'\n",
    "rename_dict['Vegas Golden Knights'] = 'Vegas Golden Knights'\n",
    "rename_dict['Washington Capitals'] = 'Washington Capitals'\n",
    "rename_dict['Winnipeg Jets'] = 'Winnipeg Jets'\n",
    "rename_dict['New Jersey Devils'] = 'New Jersey Devils'\n",
    "set(list(team_dict.values())) == set(list(rename_dict.values())) "
   ]
  },
  {
   "cell_type": "code",
   "execution_count": 21,
   "metadata": {},
   "outputs": [
    {
     "data": {
      "text/html": [
       "<div>\n",
       "<style scoped>\n",
       "    .dataframe tbody tr th:only-of-type {\n",
       "        vertical-align: middle;\n",
       "    }\n",
       "\n",
       "    .dataframe tbody tr th {\n",
       "        vertical-align: top;\n",
       "    }\n",
       "\n",
       "    .dataframe thead th {\n",
       "        text-align: right;\n",
       "    }\n",
       "</style>\n",
       "<table border=\"1\" class=\"dataframe\">\n",
       "  <thead>\n",
       "    <tr style=\"text-align: right;\">\n",
       "      <th></th>\n",
       "      <th>A_odd</th>\n",
       "      <th>Away</th>\n",
       "      <th>Date</th>\n",
       "      <th>H_odd</th>\n",
       "      <th>Home</th>\n",
       "    </tr>\n",
       "  </thead>\n",
       "  <tbody>\n",
       "    <tr>\n",
       "      <th>0</th>\n",
       "      <td>+110</td>\n",
       "      <td>Montreal Canadiens</td>\n",
       "      <td>2009-10-01</td>\n",
       "      <td>-130</td>\n",
       "      <td>Toronto Maple Leafs</td>\n",
       "    </tr>\n",
       "    <tr>\n",
       "      <th>1</th>\n",
       "      <td>+115</td>\n",
       "      <td>Washington Capitals</td>\n",
       "      <td>2009-10-01</td>\n",
       "      <td>-135</td>\n",
       "      <td>Boston Bruins</td>\n",
       "    </tr>\n",
       "    <tr>\n",
       "      <th>2</th>\n",
       "      <td>-175</td>\n",
       "      <td>San Jose Sharks</td>\n",
       "      <td>2009-10-01</td>\n",
       "      <td>+155</td>\n",
       "      <td>Colorado Avalanche</td>\n",
       "    </tr>\n",
       "    <tr>\n",
       "      <th>3</th>\n",
       "      <td>+115</td>\n",
       "      <td>Vancouver Canucks</td>\n",
       "      <td>2009-10-01</td>\n",
       "      <td>-135</td>\n",
       "      <td>Calgary Flames</td>\n",
       "    </tr>\n",
       "    <tr>\n",
       "      <th>4</th>\n",
       "      <td>+140</td>\n",
       "      <td>Florida Panthers</td>\n",
       "      <td>2009-10-02</td>\n",
       "      <td>-160</td>\n",
       "      <td>Chicago Blackhawks</td>\n",
       "    </tr>\n",
       "  </tbody>\n",
       "</table>\n",
       "</div>"
      ],
      "text/plain": [
       "  A_odd                 Away        Date H_odd                 Home\n",
       "0  +110   Montreal Canadiens  2009-10-01  -130  Toronto Maple Leafs\n",
       "1  +115  Washington Capitals  2009-10-01  -135        Boston Bruins\n",
       "2  -175      San Jose Sharks  2009-10-01  +155   Colorado Avalanche\n",
       "3  +115    Vancouver Canucks  2009-10-01  -135       Calgary Flames\n",
       "4  +140     Florida Panthers  2009-10-02  -160   Chicago Blackhawks"
      ]
     },
     "execution_count": 21,
     "metadata": {},
     "output_type": "execute_result"
    }
   ],
   "source": [
    "odds_df[\"Home\"] = odds_df[\"Home\"].apply(lambda x: team_dict[x])\n",
    "odds_df[\"Away\"] = odds_df[\"Away\"].apply(lambda x: team_dict[x])\n",
    "odds_df.head()"
   ]
  },
  {
   "cell_type": "code",
   "execution_count": 22,
   "metadata": {},
   "outputs": [],
   "source": [
    "odds_sort = odds_df.sort_values(by=['Date','Home','Away'])"
   ]
  },
  {
   "cell_type": "code",
   "execution_count": 23,
   "metadata": {},
   "outputs": [],
   "source": [
    "results_sorted = results_df.sort_values(by=['Date','Home','Away'])"
   ]
  },
  {
   "cell_type": "code",
   "execution_count": 24,
   "metadata": {},
   "outputs": [
    {
     "data": {
      "text/html": [
       "<div>\n",
       "<style scoped>\n",
       "    .dataframe tbody tr th:only-of-type {\n",
       "        vertical-align: middle;\n",
       "    }\n",
       "\n",
       "    .dataframe tbody tr th {\n",
       "        vertical-align: top;\n",
       "    }\n",
       "\n",
       "    .dataframe thead th {\n",
       "        text-align: right;\n",
       "    }\n",
       "</style>\n",
       "<table border=\"1\" class=\"dataframe\">\n",
       "  <thead>\n",
       "    <tr style=\"text-align: right;\">\n",
       "      <th></th>\n",
       "      <th>A_odd</th>\n",
       "      <th>Away_x</th>\n",
       "      <th>Date</th>\n",
       "      <th>H_odd</th>\n",
       "      <th>Home</th>\n",
       "      <th>Away_y</th>\n",
       "      <th>VG</th>\n",
       "      <th>HG</th>\n",
       "      <th>OT</th>\n",
       "      <th>ATT</th>\n",
       "      <th>Winner</th>\n",
       "    </tr>\n",
       "  </thead>\n",
       "  <tbody>\n",
       "    <tr>\n",
       "      <th>0</th>\n",
       "      <td>+115</td>\n",
       "      <td>Washington Capitals</td>\n",
       "      <td>2009-10-01</td>\n",
       "      <td>-135</td>\n",
       "      <td>Boston Bruins</td>\n",
       "      <td>Washington Capitals</td>\n",
       "      <td>4.0</td>\n",
       "      <td>1.0</td>\n",
       "      <td>REG</td>\n",
       "      <td>17565.0</td>\n",
       "      <td>Washington Capitals</td>\n",
       "    </tr>\n",
       "    <tr>\n",
       "      <th>1</th>\n",
       "      <td>+115</td>\n",
       "      <td>Vancouver Canucks</td>\n",
       "      <td>2009-10-01</td>\n",
       "      <td>-135</td>\n",
       "      <td>Calgary Flames</td>\n",
       "      <td>Vancouver Canucks</td>\n",
       "      <td>3.0</td>\n",
       "      <td>5.0</td>\n",
       "      <td>REG</td>\n",
       "      <td>19289.0</td>\n",
       "      <td>Calgary Flames</td>\n",
       "    </tr>\n",
       "    <tr>\n",
       "      <th>2</th>\n",
       "      <td>-175</td>\n",
       "      <td>San Jose Sharks</td>\n",
       "      <td>2009-10-01</td>\n",
       "      <td>+155</td>\n",
       "      <td>Colorado Avalanche</td>\n",
       "      <td>San Jose Sharks</td>\n",
       "      <td>2.0</td>\n",
       "      <td>5.0</td>\n",
       "      <td>REG</td>\n",
       "      <td>18007.0</td>\n",
       "      <td>Colorado Avalanche</td>\n",
       "    </tr>\n",
       "    <tr>\n",
       "      <th>3</th>\n",
       "      <td>+110</td>\n",
       "      <td>Montreal Canadiens</td>\n",
       "      <td>2009-10-01</td>\n",
       "      <td>-130</td>\n",
       "      <td>Toronto Maple Leafs</td>\n",
       "      <td>Montreal Canadiens</td>\n",
       "      <td>4.0</td>\n",
       "      <td>3.0</td>\n",
       "      <td>OT</td>\n",
       "      <td>19617.0</td>\n",
       "      <td>Montreal Canadiens</td>\n",
       "    </tr>\n",
       "    <tr>\n",
       "      <th>4</th>\n",
       "      <td>+100</td>\n",
       "      <td>Philadelphia Flyers</td>\n",
       "      <td>2009-10-02</td>\n",
       "      <td>-120</td>\n",
       "      <td>Carolina Hurricanes</td>\n",
       "      <td>Philadelphia Flyers</td>\n",
       "      <td>2.0</td>\n",
       "      <td>0.0</td>\n",
       "      <td>REG</td>\n",
       "      <td>18680.0</td>\n",
       "      <td>Philadelphia Flyers</td>\n",
       "    </tr>\n",
       "  </tbody>\n",
       "</table>\n",
       "</div>"
      ],
      "text/plain": [
       "  A_odd               Away_x        Date H_odd                 Home  \\\n",
       "0  +115  Washington Capitals  2009-10-01  -135        Boston Bruins   \n",
       "1  +115    Vancouver Canucks  2009-10-01  -135       Calgary Flames   \n",
       "2  -175      San Jose Sharks  2009-10-01  +155   Colorado Avalanche   \n",
       "3  +110   Montreal Canadiens  2009-10-01  -130  Toronto Maple Leafs   \n",
       "4  +100  Philadelphia Flyers  2009-10-02  -120  Carolina Hurricanes   \n",
       "\n",
       "                Away_y   VG   HG   OT      ATT               Winner  \n",
       "0  Washington Capitals  4.0  1.0  REG  17565.0  Washington Capitals  \n",
       "1    Vancouver Canucks  3.0  5.0  REG  19289.0       Calgary Flames  \n",
       "2      San Jose Sharks  2.0  5.0  REG  18007.0   Colorado Avalanche  \n",
       "3   Montreal Canadiens  4.0  3.0   OT  19617.0   Montreal Canadiens  \n",
       "4  Philadelphia Flyers  2.0  0.0  REG  18680.0  Philadelphia Flyers  "
      ]
     },
     "execution_count": 24,
     "metadata": {},
     "output_type": "execute_result"
    }
   ],
   "source": [
    "roro = odds_sort.merge(results_sorted, left_on=['Date','Home'], right_on=['Date','Home'], how='inner')\n",
    "\n",
    "endings = []\n",
    "nan = 0\n",
    "for row in roro.iterrows():\n",
    "    if row[1][8] == 'OT':\n",
    "        endings.append('OT')\n",
    "    elif row[1][8] == 'SO':\n",
    "        endings.append('SO')\n",
    "    else: endings.append('REG')\n",
    "roro['OT'] = endings\n",
    "roro['Winner'] = roro['HG'] - roro['VG']\n",
    "roro['Away_y'] = roro['Away_y'].apply(lambda x: rename_dict[x])\n",
    "roro = roro.dropna()\n",
    "roro.shape\n",
    "winning_team = []\n",
    "count = 0\n",
    "for row in roro.iterrows():\n",
    "    if row[1][10] < 0: \n",
    "        winning_team.append(row[1][5])\n",
    "    elif row[1][10] > 0: \n",
    "        winning_team.append(row[1][4])\n",
    "    else:\n",
    "        print(row)\n",
    "        count+=1\n",
    "roro['Winner'] = winning_team\n",
    "roro.head()"
   ]
  },
  {
   "cell_type": "code",
   "execution_count": 25,
   "metadata": {},
   "outputs": [
    {
     "data": {
      "text/html": [
       "<div>\n",
       "<style scoped>\n",
       "    .dataframe tbody tr th:only-of-type {\n",
       "        vertical-align: middle;\n",
       "    }\n",
       "\n",
       "    .dataframe tbody tr th {\n",
       "        vertical-align: top;\n",
       "    }\n",
       "\n",
       "    .dataframe thead th {\n",
       "        text-align: right;\n",
       "    }\n",
       "</style>\n",
       "<table border=\"1\" class=\"dataframe\">\n",
       "  <thead>\n",
       "    <tr style=\"text-align: right;\">\n",
       "      <th></th>\n",
       "      <th>Date</th>\n",
       "      <th>Home</th>\n",
       "      <th>Home_line</th>\n",
       "      <th>Away</th>\n",
       "      <th>Away_line</th>\n",
       "      <th>H_Goals</th>\n",
       "      <th>A_Goals</th>\n",
       "      <th>End</th>\n",
       "      <th>ATT</th>\n",
       "      <th>Winner</th>\n",
       "    </tr>\n",
       "  </thead>\n",
       "  <tbody>\n",
       "    <tr>\n",
       "      <th>0</th>\n",
       "      <td>2009-10-01</td>\n",
       "      <td>Boston Bruins</td>\n",
       "      <td>-135</td>\n",
       "      <td>Washington Capitals</td>\n",
       "      <td>115</td>\n",
       "      <td>1.0</td>\n",
       "      <td>4.0</td>\n",
       "      <td>REG</td>\n",
       "      <td>17565.0</td>\n",
       "      <td>Washington Capitals</td>\n",
       "    </tr>\n",
       "    <tr>\n",
       "      <th>1</th>\n",
       "      <td>2009-10-01</td>\n",
       "      <td>Calgary Flames</td>\n",
       "      <td>-135</td>\n",
       "      <td>Vancouver Canucks</td>\n",
       "      <td>115</td>\n",
       "      <td>5.0</td>\n",
       "      <td>3.0</td>\n",
       "      <td>REG</td>\n",
       "      <td>19289.0</td>\n",
       "      <td>Calgary Flames</td>\n",
       "    </tr>\n",
       "    <tr>\n",
       "      <th>2</th>\n",
       "      <td>2009-10-01</td>\n",
       "      <td>Colorado Avalanche</td>\n",
       "      <td>155</td>\n",
       "      <td>San Jose Sharks</td>\n",
       "      <td>-175</td>\n",
       "      <td>5.0</td>\n",
       "      <td>2.0</td>\n",
       "      <td>REG</td>\n",
       "      <td>18007.0</td>\n",
       "      <td>Colorado Avalanche</td>\n",
       "    </tr>\n",
       "    <tr>\n",
       "      <th>3</th>\n",
       "      <td>2009-10-01</td>\n",
       "      <td>Toronto Maple Leafs</td>\n",
       "      <td>-130</td>\n",
       "      <td>Montreal Canadiens</td>\n",
       "      <td>110</td>\n",
       "      <td>3.0</td>\n",
       "      <td>4.0</td>\n",
       "      <td>OT</td>\n",
       "      <td>19617.0</td>\n",
       "      <td>Montreal Canadiens</td>\n",
       "    </tr>\n",
       "    <tr>\n",
       "      <th>4</th>\n",
       "      <td>2009-10-02</td>\n",
       "      <td>Carolina Hurricanes</td>\n",
       "      <td>-120</td>\n",
       "      <td>Philadelphia Flyers</td>\n",
       "      <td>100</td>\n",
       "      <td>0.0</td>\n",
       "      <td>2.0</td>\n",
       "      <td>REG</td>\n",
       "      <td>18680.0</td>\n",
       "      <td>Philadelphia Flyers</td>\n",
       "    </tr>\n",
       "  </tbody>\n",
       "</table>\n",
       "</div>"
      ],
      "text/plain": [
       "         Date                 Home  Home_line                 Away  Away_line  \\\n",
       "0  2009-10-01        Boston Bruins       -135  Washington Capitals        115   \n",
       "1  2009-10-01       Calgary Flames       -135    Vancouver Canucks        115   \n",
       "2  2009-10-01   Colorado Avalanche        155      San Jose Sharks       -175   \n",
       "3  2009-10-01  Toronto Maple Leafs       -130   Montreal Canadiens        110   \n",
       "4  2009-10-02  Carolina Hurricanes       -120  Philadelphia Flyers        100   \n",
       "\n",
       "   H_Goals  A_Goals  End      ATT               Winner  \n",
       "0      1.0      4.0  REG  17565.0  Washington Capitals  \n",
       "1      5.0      3.0  REG  19289.0       Calgary Flames  \n",
       "2      5.0      2.0  REG  18007.0   Colorado Avalanche  \n",
       "3      3.0      4.0   OT  19617.0   Montreal Canadiens  \n",
       "4      0.0      2.0  REG  18680.0  Philadelphia Flyers  "
      ]
     },
     "execution_count": 25,
     "metadata": {},
     "output_type": "execute_result"
    }
   ],
   "source": [
    "# roro['Away_y'] = roro['Away_y'].apply(lambda x: rename_dict[x])\n",
    "roro = roro[['Date','Home','H_odd','Away_y','A_odd','HG','VG','OT','ATT','Winner']]\n",
    "roro.columns = ['Date','Home','Home_line','Away','Away_line','H_Goals','A_Goals','End','ATT','Winner']\n",
    "roro['Home_line'] = roro['Home_line'].apply(lambda x: int(x))\n",
    "roro['Away_line'] = roro['Away_line'].apply(lambda x: int(x))\n",
    "roro.head()"
   ]
  },
  {
   "cell_type": "code",
   "execution_count": 27,
   "metadata": {},
   "outputs": [
    {
     "data": {
      "text/plain": [
       "(11556, 11556, (11556, 10))"
      ]
     },
     "execution_count": 27,
     "metadata": {},
     "output_type": "execute_result"
    }
   ],
   "source": [
    "home_returns = []\n",
    "away_returns = []\n",
    "count = 0\n",
    "for row in roro.iterrows():\n",
    "#     print(row[1][2])\n",
    "#     print(row[1][4])\n",
    "    if row[1][9] == row[1][1]:\n",
    "        away_loss = 10\n",
    "        away_returns.append(- away_loss)\n",
    "        if row[1][2] > 0:\n",
    "            wins = row[1][2]/10\n",
    "            home_returns.append(round(wins,1))\n",
    "        elif row[1][2] < 0:\n",
    "            mult = (100/-(row[1][2]))\n",
    "            wins = mult*10\n",
    "            home_returns.append(round(wins,1))\n",
    "            \n",
    "    elif row[1][9] == row[1][3]:\n",
    "        home_loss = -10\n",
    "        home_returns.append(home_loss)\n",
    "        if row[1][4] > 0:\n",
    "            wins = row[1][4]/10\n",
    "            away_returns.append(round(wins,1))\n",
    "        elif row[1][4] < 0:\n",
    "            mult = (100/-(row[1][4]))\n",
    "            wins = mult*10\n",
    "            away_returns.append(round(wins,1))\n",
    "    else: print(row[1])\n",
    "            \n",
    "\n",
    "len(away_returns), len(home_returns), roro.shape"
   ]
  },
  {
   "cell_type": "code",
   "execution_count": 28,
   "metadata": {},
   "outputs": [
    {
     "data": {
      "text/html": [
       "<div>\n",
       "<style scoped>\n",
       "    .dataframe tbody tr th:only-of-type {\n",
       "        vertical-align: middle;\n",
       "    }\n",
       "\n",
       "    .dataframe tbody tr th {\n",
       "        vertical-align: top;\n",
       "    }\n",
       "\n",
       "    .dataframe thead th {\n",
       "        text-align: right;\n",
       "    }\n",
       "</style>\n",
       "<table border=\"1\" class=\"dataframe\">\n",
       "  <thead>\n",
       "    <tr style=\"text-align: right;\">\n",
       "      <th></th>\n",
       "      <th>Date</th>\n",
       "      <th>Home</th>\n",
       "      <th>Home_line</th>\n",
       "      <th>Away</th>\n",
       "      <th>Away_line</th>\n",
       "      <th>H_Goals</th>\n",
       "      <th>A_Goals</th>\n",
       "      <th>End</th>\n",
       "      <th>ATT</th>\n",
       "      <th>Winner</th>\n",
       "      <th>H_returns</th>\n",
       "      <th>A_returns</th>\n",
       "    </tr>\n",
       "  </thead>\n",
       "  <tbody>\n",
       "    <tr>\n",
       "      <th>0</th>\n",
       "      <td>2009-10-01</td>\n",
       "      <td>Boston Bruins</td>\n",
       "      <td>-135</td>\n",
       "      <td>Washington Capitals</td>\n",
       "      <td>115</td>\n",
       "      <td>1.0</td>\n",
       "      <td>4.0</td>\n",
       "      <td>REG</td>\n",
       "      <td>17565.0</td>\n",
       "      <td>Washington Capitals</td>\n",
       "      <td>-10.0</td>\n",
       "      <td>11.5</td>\n",
       "    </tr>\n",
       "    <tr>\n",
       "      <th>1</th>\n",
       "      <td>2009-10-01</td>\n",
       "      <td>Calgary Flames</td>\n",
       "      <td>-135</td>\n",
       "      <td>Vancouver Canucks</td>\n",
       "      <td>115</td>\n",
       "      <td>5.0</td>\n",
       "      <td>3.0</td>\n",
       "      <td>REG</td>\n",
       "      <td>19289.0</td>\n",
       "      <td>Calgary Flames</td>\n",
       "      <td>7.4</td>\n",
       "      <td>-10.0</td>\n",
       "    </tr>\n",
       "    <tr>\n",
       "      <th>2</th>\n",
       "      <td>2009-10-01</td>\n",
       "      <td>Colorado Avalanche</td>\n",
       "      <td>155</td>\n",
       "      <td>San Jose Sharks</td>\n",
       "      <td>-175</td>\n",
       "      <td>5.0</td>\n",
       "      <td>2.0</td>\n",
       "      <td>REG</td>\n",
       "      <td>18007.0</td>\n",
       "      <td>Colorado Avalanche</td>\n",
       "      <td>15.5</td>\n",
       "      <td>-10.0</td>\n",
       "    </tr>\n",
       "    <tr>\n",
       "      <th>3</th>\n",
       "      <td>2009-10-01</td>\n",
       "      <td>Toronto Maple Leafs</td>\n",
       "      <td>-130</td>\n",
       "      <td>Montreal Canadiens</td>\n",
       "      <td>110</td>\n",
       "      <td>3.0</td>\n",
       "      <td>4.0</td>\n",
       "      <td>OT</td>\n",
       "      <td>19617.0</td>\n",
       "      <td>Montreal Canadiens</td>\n",
       "      <td>-10.0</td>\n",
       "      <td>11.0</td>\n",
       "    </tr>\n",
       "    <tr>\n",
       "      <th>4</th>\n",
       "      <td>2009-10-02</td>\n",
       "      <td>Carolina Hurricanes</td>\n",
       "      <td>-120</td>\n",
       "      <td>Philadelphia Flyers</td>\n",
       "      <td>100</td>\n",
       "      <td>0.0</td>\n",
       "      <td>2.0</td>\n",
       "      <td>REG</td>\n",
       "      <td>18680.0</td>\n",
       "      <td>Philadelphia Flyers</td>\n",
       "      <td>-10.0</td>\n",
       "      <td>10.0</td>\n",
       "    </tr>\n",
       "  </tbody>\n",
       "</table>\n",
       "</div>"
      ],
      "text/plain": [
       "         Date                 Home  Home_line                 Away  Away_line  \\\n",
       "0  2009-10-01        Boston Bruins       -135  Washington Capitals        115   \n",
       "1  2009-10-01       Calgary Flames       -135    Vancouver Canucks        115   \n",
       "2  2009-10-01   Colorado Avalanche        155      San Jose Sharks       -175   \n",
       "3  2009-10-01  Toronto Maple Leafs       -130   Montreal Canadiens        110   \n",
       "4  2009-10-02  Carolina Hurricanes       -120  Philadelphia Flyers        100   \n",
       "\n",
       "   H_Goals  A_Goals  End      ATT               Winner  H_returns  A_returns  \n",
       "0      1.0      4.0  REG  17565.0  Washington Capitals      -10.0       11.5  \n",
       "1      5.0      3.0  REG  19289.0       Calgary Flames        7.4      -10.0  \n",
       "2      5.0      2.0  REG  18007.0   Colorado Avalanche       15.5      -10.0  \n",
       "3      3.0      4.0   OT  19617.0   Montreal Canadiens      -10.0       11.0  \n",
       "4      0.0      2.0  REG  18680.0  Philadelphia Flyers      -10.0       10.0  "
      ]
     },
     "execution_count": 28,
     "metadata": {},
     "output_type": "execute_result"
    }
   ],
   "source": [
    "roro['H_returns'] = home_returns\n",
    "roro['A_returns'] = away_returns\n",
    "roro.head()"
   ]
  },
  {
   "cell_type": "code",
   "execution_count": 46,
   "metadata": {},
   "outputs": [
    {
     "data": {
      "text/html": [
       "<div>\n",
       "<style scoped>\n",
       "    .dataframe tbody tr th:only-of-type {\n",
       "        vertical-align: middle;\n",
       "    }\n",
       "\n",
       "    .dataframe tbody tr th {\n",
       "        vertical-align: top;\n",
       "    }\n",
       "\n",
       "    .dataframe thead th {\n",
       "        text-align: right;\n",
       "    }\n",
       "</style>\n",
       "<table border=\"1\" class=\"dataframe\">\n",
       "  <thead>\n",
       "    <tr style=\"text-align: right;\">\n",
       "      <th></th>\n",
       "      <th>Date</th>\n",
       "      <th>Home</th>\n",
       "      <th>Home_line</th>\n",
       "      <th>Away</th>\n",
       "      <th>Away_line</th>\n",
       "      <th>H_Goals</th>\n",
       "      <th>A_Goals</th>\n",
       "      <th>End</th>\n",
       "      <th>ATT</th>\n",
       "      <th>Winner</th>\n",
       "      <th>H_returns</th>\n",
       "      <th>A_returns</th>\n",
       "    </tr>\n",
       "  </thead>\n",
       "  <tbody>\n",
       "    <tr>\n",
       "      <th>0</th>\n",
       "      <td>10-01-2009</td>\n",
       "      <td>Boston Bruins</td>\n",
       "      <td>-135</td>\n",
       "      <td>Washington Capitals</td>\n",
       "      <td>115</td>\n",
       "      <td>1.0</td>\n",
       "      <td>4.0</td>\n",
       "      <td>REG</td>\n",
       "      <td>17565.0</td>\n",
       "      <td>Washington Capitals</td>\n",
       "      <td>-10.0</td>\n",
       "      <td>11.5</td>\n",
       "    </tr>\n",
       "    <tr>\n",
       "      <th>1</th>\n",
       "      <td>10-01-2009</td>\n",
       "      <td>Calgary Flames</td>\n",
       "      <td>-135</td>\n",
       "      <td>Vancouver Canucks</td>\n",
       "      <td>115</td>\n",
       "      <td>5.0</td>\n",
       "      <td>3.0</td>\n",
       "      <td>REG</td>\n",
       "      <td>19289.0</td>\n",
       "      <td>Calgary Flames</td>\n",
       "      <td>7.4</td>\n",
       "      <td>-10.0</td>\n",
       "    </tr>\n",
       "    <tr>\n",
       "      <th>2</th>\n",
       "      <td>10-01-2009</td>\n",
       "      <td>Colorado Avalanche</td>\n",
       "      <td>155</td>\n",
       "      <td>San Jose Sharks</td>\n",
       "      <td>-175</td>\n",
       "      <td>5.0</td>\n",
       "      <td>2.0</td>\n",
       "      <td>REG</td>\n",
       "      <td>18007.0</td>\n",
       "      <td>Colorado Avalanche</td>\n",
       "      <td>15.5</td>\n",
       "      <td>-10.0</td>\n",
       "    </tr>\n",
       "    <tr>\n",
       "      <th>3</th>\n",
       "      <td>10-01-2009</td>\n",
       "      <td>Toronto Maple Leafs</td>\n",
       "      <td>-130</td>\n",
       "      <td>Montreal Canadiens</td>\n",
       "      <td>110</td>\n",
       "      <td>3.0</td>\n",
       "      <td>4.0</td>\n",
       "      <td>OT</td>\n",
       "      <td>19617.0</td>\n",
       "      <td>Montreal Canadiens</td>\n",
       "      <td>-10.0</td>\n",
       "      <td>11.0</td>\n",
       "    </tr>\n",
       "    <tr>\n",
       "      <th>4</th>\n",
       "      <td>10-02-2009</td>\n",
       "      <td>Carolina Hurricanes</td>\n",
       "      <td>-120</td>\n",
       "      <td>Philadelphia Flyers</td>\n",
       "      <td>100</td>\n",
       "      <td>0.0</td>\n",
       "      <td>2.0</td>\n",
       "      <td>REG</td>\n",
       "      <td>18680.0</td>\n",
       "      <td>Philadelphia Flyers</td>\n",
       "      <td>-10.0</td>\n",
       "      <td>10.0</td>\n",
       "    </tr>\n",
       "  </tbody>\n",
       "</table>\n",
       "</div>"
      ],
      "text/plain": [
       "         Date                 Home  Home_line                 Away  Away_line  \\\n",
       "0  10-01-2009        Boston Bruins       -135  Washington Capitals        115   \n",
       "1  10-01-2009       Calgary Flames       -135    Vancouver Canucks        115   \n",
       "2  10-01-2009   Colorado Avalanche        155      San Jose Sharks       -175   \n",
       "3  10-01-2009  Toronto Maple Leafs       -130   Montreal Canadiens        110   \n",
       "4  10-02-2009  Carolina Hurricanes       -120  Philadelphia Flyers        100   \n",
       "\n",
       "   H_Goals  A_Goals  End      ATT               Winner  H_returns  A_returns  \n",
       "0      1.0      4.0  REG  17565.0  Washington Capitals      -10.0       11.5  \n",
       "1      5.0      3.0  REG  19289.0       Calgary Flames        7.4      -10.0  \n",
       "2      5.0      2.0  REG  18007.0   Colorado Avalanche       15.5      -10.0  \n",
       "3      3.0      4.0   OT  19617.0   Montreal Canadiens      -10.0       11.0  \n",
       "4      0.0      2.0  REG  18680.0  Philadelphia Flyers      -10.0       10.0  "
      ]
     },
     "execution_count": 46,
     "metadata": {},
     "output_type": "execute_result"
    }
   ],
   "source": [
    "# roro['Date'] = roro['Date'].apply(lambda x: f\"{x.split('-')[1]}-{x.split('-')[2]}-{x.split('-')[0]}\")\n",
    "roro['H_returns'] = roro['H_returns'].apply(lambda x: float(x))\n",
    "roro['A_returns'] = roro['A_returns'].apply(lambda x: float(x))\n",
    "roro.head()"
   ]
  },
  {
   "cell_type": "code",
   "execution_count": 63,
   "metadata": {},
   "outputs": [
    {
     "data": {
      "text/plain": [
       "((11556, 5), (11556, 1))"
      ]
     },
     "execution_count": 63,
     "metadata": {},
     "output_type": "execute_result"
    }
   ],
   "source": [
    "# ml_df = roro[['Date','Home','Home_line','Away','Away_line','H_Goals','A_Goals','Winner']]\n",
    "# ml_df['Home']= ml_df['Home'].apply(lambda x: ML_dict[x])\n",
    "# ml_df['Away']= ml_df['Away'].apply(lambda x: ML_dict[x])\n",
    "# ml_df['Winner']= ml_df['Winner'].apply(lambda x: ML_dict[x])\n",
    "ml_df.head(10)\n",
    "X = ml_df[['Date','Home','Home_line','Away','Away_line']]\n",
    "y = ml_df[['Winner']]\n",
    "X.shape, y.shape"
   ]
  },
  {
   "cell_type": "code",
   "execution_count": 81,
   "metadata": {},
   "outputs": [
    {
     "data": {
      "text/html": [
       "<div>\n",
       "<style scoped>\n",
       "    .dataframe tbody tr th:only-of-type {\n",
       "        vertical-align: middle;\n",
       "    }\n",
       "\n",
       "    .dataframe tbody tr th {\n",
       "        vertical-align: top;\n",
       "    }\n",
       "\n",
       "    .dataframe thead th {\n",
       "        text-align: right;\n",
       "    }\n",
       "</style>\n",
       "<table border=\"1\" class=\"dataframe\">\n",
       "  <thead>\n",
       "    <tr style=\"text-align: right;\">\n",
       "      <th></th>\n",
       "      <th>Date</th>\n",
       "      <th>Home</th>\n",
       "      <th>Home_line</th>\n",
       "      <th>Away</th>\n",
       "      <th>Away_line</th>\n",
       "      <th>H_Goals</th>\n",
       "      <th>A_Goals</th>\n",
       "      <th>Winner</th>\n",
       "      <th>Date_month</th>\n",
       "      <th>Date_day</th>\n",
       "      <th>Date_year</th>\n",
       "      <th>Date_DOW</th>\n",
       "    </tr>\n",
       "  </thead>\n",
       "  <tbody>\n",
       "    <tr>\n",
       "      <th>0</th>\n",
       "      <td>2009-10-01</td>\n",
       "      <td>3</td>\n",
       "      <td>-135</td>\n",
       "      <td>30</td>\n",
       "      <td>115</td>\n",
       "      <td>1.0</td>\n",
       "      <td>4.0</td>\n",
       "      <td>30</td>\n",
       "      <td>10</td>\n",
       "      <td>1</td>\n",
       "      <td>2009</td>\n",
       "      <td>3</td>\n",
       "    </tr>\n",
       "    <tr>\n",
       "      <th>1</th>\n",
       "      <td>2009-10-01</td>\n",
       "      <td>5</td>\n",
       "      <td>-135</td>\n",
       "      <td>28</td>\n",
       "      <td>115</td>\n",
       "      <td>5.0</td>\n",
       "      <td>3.0</td>\n",
       "      <td>5</td>\n",
       "      <td>10</td>\n",
       "      <td>1</td>\n",
       "      <td>2009</td>\n",
       "      <td>3</td>\n",
       "    </tr>\n",
       "    <tr>\n",
       "      <th>2</th>\n",
       "      <td>2009-10-01</td>\n",
       "      <td>8</td>\n",
       "      <td>155</td>\n",
       "      <td>24</td>\n",
       "      <td>-175</td>\n",
       "      <td>5.0</td>\n",
       "      <td>2.0</td>\n",
       "      <td>8</td>\n",
       "      <td>10</td>\n",
       "      <td>1</td>\n",
       "      <td>2009</td>\n",
       "      <td>3</td>\n",
       "    </tr>\n",
       "    <tr>\n",
       "      <th>3</th>\n",
       "      <td>2009-10-01</td>\n",
       "      <td>27</td>\n",
       "      <td>-130</td>\n",
       "      <td>16</td>\n",
       "      <td>110</td>\n",
       "      <td>3.0</td>\n",
       "      <td>4.0</td>\n",
       "      <td>16</td>\n",
       "      <td>10</td>\n",
       "      <td>1</td>\n",
       "      <td>2009</td>\n",
       "      <td>3</td>\n",
       "    </tr>\n",
       "    <tr>\n",
       "      <th>4</th>\n",
       "      <td>2009-10-02</td>\n",
       "      <td>6</td>\n",
       "      <td>-120</td>\n",
       "      <td>22</td>\n",
       "      <td>100</td>\n",
       "      <td>0.0</td>\n",
       "      <td>2.0</td>\n",
       "      <td>22</td>\n",
       "      <td>10</td>\n",
       "      <td>2</td>\n",
       "      <td>2009</td>\n",
       "      <td>4</td>\n",
       "    </tr>\n",
       "  </tbody>\n",
       "</table>\n",
       "</div>"
      ],
      "text/plain": [
       "        Date  Home  Home_line  Away  Away_line  H_Goals  A_Goals  Winner  \\\n",
       "0 2009-10-01     3       -135    30        115      1.0      4.0      30   \n",
       "1 2009-10-01     5       -135    28        115      5.0      3.0       5   \n",
       "2 2009-10-01     8        155    24       -175      5.0      2.0       8   \n",
       "3 2009-10-01    27       -130    16        110      3.0      4.0      16   \n",
       "4 2009-10-02     6       -120    22        100      0.0      2.0      22   \n",
       "\n",
       "   Date_month  Date_day  Date_year  Date_DOW  \n",
       "0          10         1       2009         3  \n",
       "1          10         1       2009         3  \n",
       "2          10         1       2009         3  \n",
       "3          10         1       2009         3  \n",
       "4          10         2       2009         4  "
      ]
     },
     "execution_count": 81,
     "metadata": {},
     "output_type": "execute_result"
    }
   ],
   "source": [
    "from datetime import datetime\n",
    "# ml_df['Date'] = ml_df['Date'].apply(lambda x: datetime.strptime(x, '%m-%d-%Y'))\n",
    "# ml_df['Date_month'] = ml_df['Date'].apply(lambda x: x.month)\n",
    "# ml_df['Date_day'] = ml_df['Date'].apply(lambda x: x.day)\n",
    "# ml_df['Date_year'] = ml_df['Date'].apply(lambda x: x.year)\n",
    "# ml_df['Date_DOW'] = ml_df['Date'].apply(lambda x: x.weekday())\n",
    "\n",
    "ml_df.head()"
   ]
  },
  {
   "cell_type": "code",
   "execution_count": 93,
   "metadata": {},
   "outputs": [
    {
     "data": {
      "text/html": [
       "<div>\n",
       "<style scoped>\n",
       "    .dataframe tbody tr th:only-of-type {\n",
       "        vertical-align: middle;\n",
       "    }\n",
       "\n",
       "    .dataframe tbody tr th {\n",
       "        vertical-align: top;\n",
       "    }\n",
       "\n",
       "    .dataframe thead th {\n",
       "        text-align: right;\n",
       "    }\n",
       "</style>\n",
       "<table border=\"1\" class=\"dataframe\">\n",
       "  <thead>\n",
       "    <tr style=\"text-align: right;\">\n",
       "      <th></th>\n",
       "      <th>Date</th>\n",
       "      <th>Home</th>\n",
       "      <th>Home_line</th>\n",
       "      <th>Away</th>\n",
       "      <th>Away_line</th>\n",
       "      <th>H_Goals</th>\n",
       "      <th>A_Goals</th>\n",
       "      <th>Winner</th>\n",
       "      <th>Date_month</th>\n",
       "      <th>Date_day</th>\n",
       "      <th>Date_year</th>\n",
       "      <th>Date_DOW</th>\n",
       "      <th>Winner_score</th>\n",
       "      <th>Home_win</th>\n",
       "    </tr>\n",
       "  </thead>\n",
       "  <tbody>\n",
       "    <tr>\n",
       "      <th>0</th>\n",
       "      <td>2009-10-01</td>\n",
       "      <td>3</td>\n",
       "      <td>-135</td>\n",
       "      <td>30</td>\n",
       "      <td>115</td>\n",
       "      <td>1.0</td>\n",
       "      <td>4.0</td>\n",
       "      <td>30</td>\n",
       "      <td>10</td>\n",
       "      <td>1</td>\n",
       "      <td>2009</td>\n",
       "      <td>3</td>\n",
       "      <td>-3.0</td>\n",
       "      <td>0</td>\n",
       "    </tr>\n",
       "    <tr>\n",
       "      <th>1</th>\n",
       "      <td>2009-10-01</td>\n",
       "      <td>5</td>\n",
       "      <td>-135</td>\n",
       "      <td>28</td>\n",
       "      <td>115</td>\n",
       "      <td>5.0</td>\n",
       "      <td>3.0</td>\n",
       "      <td>5</td>\n",
       "      <td>10</td>\n",
       "      <td>1</td>\n",
       "      <td>2009</td>\n",
       "      <td>3</td>\n",
       "      <td>2.0</td>\n",
       "      <td>1</td>\n",
       "    </tr>\n",
       "    <tr>\n",
       "      <th>2</th>\n",
       "      <td>2009-10-01</td>\n",
       "      <td>8</td>\n",
       "      <td>155</td>\n",
       "      <td>24</td>\n",
       "      <td>-175</td>\n",
       "      <td>5.0</td>\n",
       "      <td>2.0</td>\n",
       "      <td>8</td>\n",
       "      <td>10</td>\n",
       "      <td>1</td>\n",
       "      <td>2009</td>\n",
       "      <td>3</td>\n",
       "      <td>3.0</td>\n",
       "      <td>1</td>\n",
       "    </tr>\n",
       "    <tr>\n",
       "      <th>3</th>\n",
       "      <td>2009-10-01</td>\n",
       "      <td>27</td>\n",
       "      <td>-130</td>\n",
       "      <td>16</td>\n",
       "      <td>110</td>\n",
       "      <td>3.0</td>\n",
       "      <td>4.0</td>\n",
       "      <td>16</td>\n",
       "      <td>10</td>\n",
       "      <td>1</td>\n",
       "      <td>2009</td>\n",
       "      <td>3</td>\n",
       "      <td>-1.0</td>\n",
       "      <td>0</td>\n",
       "    </tr>\n",
       "    <tr>\n",
       "      <th>4</th>\n",
       "      <td>2009-10-02</td>\n",
       "      <td>6</td>\n",
       "      <td>-120</td>\n",
       "      <td>22</td>\n",
       "      <td>100</td>\n",
       "      <td>0.0</td>\n",
       "      <td>2.0</td>\n",
       "      <td>22</td>\n",
       "      <td>10</td>\n",
       "      <td>2</td>\n",
       "      <td>2009</td>\n",
       "      <td>4</td>\n",
       "      <td>-2.0</td>\n",
       "      <td>0</td>\n",
       "    </tr>\n",
       "  </tbody>\n",
       "</table>\n",
       "</div>"
      ],
      "text/plain": [
       "        Date  Home  Home_line  Away  Away_line  H_Goals  A_Goals  Winner  \\\n",
       "0 2009-10-01     3       -135    30        115      1.0      4.0      30   \n",
       "1 2009-10-01     5       -135    28        115      5.0      3.0       5   \n",
       "2 2009-10-01     8        155    24       -175      5.0      2.0       8   \n",
       "3 2009-10-01    27       -130    16        110      3.0      4.0      16   \n",
       "4 2009-10-02     6       -120    22        100      0.0      2.0      22   \n",
       "\n",
       "   Date_month  Date_day  Date_year  Date_DOW  Winner_score  Home_win  \n",
       "0          10         1       2009         3          -3.0         0  \n",
       "1          10         1       2009         3           2.0         1  \n",
       "2          10         1       2009         3           3.0         1  \n",
       "3          10         1       2009         3          -1.0         0  \n",
       "4          10         2       2009         4          -2.0         0  "
      ]
     },
     "execution_count": 93,
     "metadata": {},
     "output_type": "execute_result"
    }
   ],
   "source": [
    "# ml_df['Winner_score'] = ml_df['H_Goals'] - ml_df['A_Goals']\n",
    "# ml_df.head()\n",
    "# home_win = []\n",
    "# for row in ml_df.iterrows():\n",
    "#     if row[1][-1] > 0:\n",
    "#         result = 1\n",
    "#         home_win.append(1)\n",
    "#     elif row[1][-1] < 0:\n",
    "#         results = 0\n",
    "#         home_win.append(results)\n",
    "#     else: print(row[1][-1])\n",
    "# len(home_win), ml_df.shape\n",
    "ml_df['Home_win'] = home_win\n",
    "ml_df.head()"
   ]
  },
  {
   "cell_type": "code",
   "execution_count": 95,
   "metadata": {},
   "outputs": [],
   "source": [
    "X = ml_df[['Date_month','Date_year','Date_day','Home','Home_line','Away','Away_line']]\n",
    "y = ml_df[['Home_win']]"
   ]
  },
  {
   "cell_type": "code",
   "execution_count": 102,
   "metadata": {},
   "outputs": [],
   "source": [
    "from sklearn.model_selection import train_test_split\n",
    "\n",
    "X_train, X_test, y_train, y_test = train_test_split(X, y)"
   ]
  },
  {
   "cell_type": "code",
   "execution_count": 103,
   "metadata": {},
   "outputs": [
    {
     "name": "stderr",
     "output_type": "stream",
     "text": [
      "C:\\Users\\Ryan\\Anaconda3\\lib\\site-packages\\sklearn\\ensemble\\weight_boosting.py:29: DeprecationWarning: numpy.core.umath_tests is an internal NumPy module and should not be imported. It will be removed in a future NumPy release.\n",
      "  from numpy.core.umath_tests import inner1d\n",
      "C:\\Users\\Ryan\\Anaconda3\\lib\\site-packages\\ipykernel_launcher.py:27: DataConversionWarning: A column-vector y was passed when a 1d array was expected. Please change the shape of y to (n_samples, ), for example using ravel().\n",
      "C:\\Users\\Ryan\\Anaconda3\\lib\\site-packages\\sklearn\\utils\\validation.py:578: DataConversionWarning: A column-vector y was passed when a 1d array was expected. Please change the shape of y to (n_samples, ), for example using ravel().\n",
      "  y = column_or_1d(y, warn=True)\n"
     ]
    },
    {
     "name": "stdout",
     "output_type": "stream",
     "text": [
      "==============================\n",
      "KNeighborsClassifier\n",
      "****Results****\n",
      "Accuracy: 53.8249%\n",
      "Log Loss: 4.625510122996609\n",
      "==============================\n",
      "SVC\n",
      "****Results****\n",
      "Accuracy: 53.6864%\n",
      "Log Loss: 0.6906919279335931\n",
      "==============================\n",
      "NuSVC\n",
      "****Results****\n",
      "Accuracy: 54.0672%\n",
      "Log Loss: 0.6907275723338133\n",
      "==============================\n",
      "DecisionTreeClassifier\n",
      "****Results****\n",
      "Accuracy: 53.9979%\n",
      "Log Loss: 15.888554457887262\n"
     ]
    },
    {
     "name": "stderr",
     "output_type": "stream",
     "text": [
      "C:\\Users\\Ryan\\Anaconda3\\lib\\site-packages\\ipykernel_launcher.py:27: DataConversionWarning: A column-vector y was passed when a 1d array was expected. Please change the shape of y to (n_samples,), for example using ravel().\n"
     ]
    },
    {
     "name": "stdout",
     "output_type": "stream",
     "text": [
      "==============================\n",
      "RandomForestClassifier\n",
      "****Results****\n",
      "Accuracy: 53.7210%\n",
      "Log Loss: 1.0056613440271178\n"
     ]
    },
    {
     "name": "stderr",
     "output_type": "stream",
     "text": [
      "C:\\Users\\Ryan\\Anaconda3\\lib\\site-packages\\sklearn\\utils\\validation.py:578: DataConversionWarning: A column-vector y was passed when a 1d array was expected. Please change the shape of y to (n_samples, ), for example using ravel().\n",
      "  y = column_or_1d(y, warn=True)\n"
     ]
    },
    {
     "name": "stdout",
     "output_type": "stream",
     "text": [
      "==============================\n",
      "AdaBoostClassifier\n",
      "****Results****\n",
      "Accuracy: 58.4978%\n",
      "Log Loss: 0.6921010674957746\n"
     ]
    },
    {
     "name": "stderr",
     "output_type": "stream",
     "text": [
      "C:\\Users\\Ryan\\Anaconda3\\lib\\site-packages\\sklearn\\utils\\validation.py:578: DataConversionWarning: A column-vector y was passed when a 1d array was expected. Please change the shape of y to (n_samples, ), for example using ravel().\n",
      "  y = column_or_1d(y, warn=True)\n"
     ]
    },
    {
     "name": "stdout",
     "output_type": "stream",
     "text": [
      "==============================\n",
      "GradientBoostingClassifier\n",
      "****Results****\n",
      "Accuracy: 57.9093%\n",
      "Log Loss: 0.6716192196980947\n",
      "==============================\n",
      "GaussianNB\n",
      "****Results****\n",
      "Accuracy: 59.0862%\n",
      "Log Loss: 0.6946711401164277\n",
      "==============================\n",
      "LinearDiscriminantAnalysis\n",
      "****Results****\n",
      "Accuracy: 58.2901%\n",
      "Log Loss: 0.6728320214727321\n",
      "==============================\n",
      "QuadraticDiscriminantAnalysis\n",
      "****Results****\n",
      "Accuracy: 58.4631%\n",
      "Log Loss: 0.6821687065534014\n",
      "==============================\n"
     ]
    }
   ],
   "source": [
    "from sklearn.metrics import accuracy_score, log_loss\n",
    "from sklearn.neighbors import KNeighborsClassifier\n",
    "from sklearn.svm import SVC, LinearSVC, NuSVC\n",
    "from sklearn.tree import DecisionTreeClassifier\n",
    "from sklearn.ensemble import RandomForestClassifier, AdaBoostClassifier, GradientBoostingClassifier\n",
    "from sklearn.naive_bayes import GaussianNB\n",
    "from sklearn.discriminant_analysis import LinearDiscriminantAnalysis\n",
    "from sklearn.discriminant_analysis import QuadraticDiscriminantAnalysis\n",
    "\n",
    "classifiers = [\n",
    "    KNeighborsClassifier(3),\n",
    "    SVC(kernel=\"rbf\", C=0.025, probability=True),\n",
    "    NuSVC(probability=True),\n",
    "    DecisionTreeClassifier(),\n",
    "    RandomForestClassifier(),\n",
    "    AdaBoostClassifier(),\n",
    "    GradientBoostingClassifier(),\n",
    "    GaussianNB(),\n",
    "    LinearDiscriminantAnalysis(),\n",
    "    QuadraticDiscriminantAnalysis()]\n",
    "\n",
    "# Logging for Visual Comparison\n",
    "log_cols=[\"Classifier\", \"Accuracy\", \"Log Loss\"]\n",
    "log = pd.DataFrame(columns=log_cols)\n",
    "\n",
    "for clf in classifiers:\n",
    "    clf.fit(X_train, y_train)\n",
    "    name = clf.__class__.__name__\n",
    "    \n",
    "    print(\"=\"*30)\n",
    "    print(name)\n",
    "    \n",
    "    print('****Results****')\n",
    "    train_predictions = clf.predict(X_test)\n",
    "    acc = accuracy_score(y_test, train_predictions)\n",
    "    print(\"Accuracy: {:.4%}\".format(acc))\n",
    "    \n",
    "    train_predictions = clf.predict_proba(X_test)\n",
    "    ll = log_loss(y_test, train_predictions)\n",
    "    print(\"Log Loss: {}\".format(ll))\n",
    "    \n",
    "    log_entry = pd.DataFrame([[name, acc*100, ll]], columns=log_cols)\n",
    "    log = log.append(log_entry)\n",
    "    \n",
    "print(\"=\"*30)"
   ]
  },
  {
   "cell_type": "code",
   "execution_count": 104,
   "metadata": {},
   "outputs": [
    {
     "name": "stderr",
     "output_type": "stream",
     "text": [
      "C:\\Users\\Ryan\\Anaconda3\\lib\\site-packages\\sklearn\\utils\\validation.py:578: DataConversionWarning: A column-vector y was passed when a 1d array was expected. Please change the shape of y to (n_samples, ), for example using ravel().\n",
      "  y = column_or_1d(y, warn=True)\n"
     ]
    },
    {
     "data": {
      "text/plain": [
       "GradientBoostingClassifier(criterion='friedman_mse', init=None,\n",
       "              learning_rate=0.1, loss='deviance', max_depth=3,\n",
       "              max_features=None, max_leaf_nodes=None,\n",
       "              min_impurity_decrease=0.0, min_impurity_split=None,\n",
       "              min_samples_leaf=1, min_samples_split=2,\n",
       "              min_weight_fraction_leaf=0.0, n_estimators=100,\n",
       "              presort='auto', random_state=None, subsample=1.0, verbose=0,\n",
       "              warm_start=False)"
      ]
     },
     "execution_count": 104,
     "metadata": {},
     "output_type": "execute_result"
    }
   ],
   "source": [
    "clf = GradientBoostingClassifier()\n",
    "clf.fit(X_train, y_train)"
   ]
  },
  {
   "cell_type": "code",
   "execution_count": 105,
   "metadata": {},
   "outputs": [
    {
     "name": "stdout",
     "output_type": "stream",
     "text": [
      "Accuracy: 57.8747%\n"
     ]
    }
   ],
   "source": [
    "train_predictions = clf.predict(X_test)\n",
    "acc = accuracy_score(y_test, train_predictions)\n",
    "print(\"Accuracy: {:.4%}\".format(acc))"
   ]
  },
  {
   "cell_type": "code",
   "execution_count": 147,
   "metadata": {},
   "outputs": [
    {
     "data": {
      "text/plain": [
       "((637,), (637,))"
      ]
     },
     "execution_count": 147,
     "metadata": {},
     "output_type": "execute_result"
    }
   ],
   "source": [
    "probs1 = clf.predict_proba(X_test)[:,1]\n",
    "probs0 = clf.predict_proba(X_test)[:,0]\n",
    "probsgreat = probs1[probs1 > .62]\n",
    "probsgreat1 = probs0[probs0 < .38]\n",
    "probsgreat.shape, probsgreat1.shape"
   ]
  },
  {
   "cell_type": "code",
   "execution_count": 126,
   "metadata": {},
   "outputs": [
    {
     "data": {
      "text/plain": [
       "1    0.547248\n",
       "0    0.452752\n",
       "Name: Home_win, dtype: float64"
      ]
     },
     "execution_count": 126,
     "metadata": {},
     "output_type": "execute_result"
    }
   ],
   "source": [
    "y.Home_win.value_counts(normalize = True)"
   ]
  },
  {
   "cell_type": "code",
   "execution_count": 129,
   "metadata": {},
   "outputs": [
    {
     "data": {
      "text/plain": [
       "array([[ 513,  825],\n",
       "       [ 392, 1159]], dtype=int64)"
      ]
     },
     "execution_count": 129,
     "metadata": {},
     "output_type": "execute_result"
    }
   ],
   "source": [
    "from sklearn.metrics import confusion_matrix\n",
    "confusion_matrix(y_test,clf.predict(X_test))"
   ]
  },
  {
   "cell_type": "code",
   "execution_count": 143,
   "metadata": {},
   "outputs": [],
   "source": [
    "jeff = y_test.copy()\n",
    "\n",
    "from collections import defaultdict\n",
    "\n",
    "jeff['pred'] = clf.predict(X_test)\n",
    "\n",
    "matrix = defaultdict(list)\n",
    "\n",
    "for index, row, in jeff.iterrows():\n",
    "    \n",
    "    if row.Home_win == 1:\n",
    "        if row.pred == 1:\n",
    "            matrix['home_won'].append('home_won')\n",
    "        else:\n",
    "            matrix['home_won'].append('home_list')\n",
    "    elif row.Home_win == 0:\n",
    "        if row.pred == 0:\n",
    "            matrix['home_lost'].append('home_list')\n",
    "        else:\n",
    "            matrix['home_lost'].append('home_won')"
   ]
  },
  {
   "cell_type": "code",
   "execution_count": 145,
   "metadata": {},
   "outputs": [
    {
     "data": {
      "text/plain": [
       "{'home_lost': Counter({'home_list': 513, 'home_won': 825}),\n",
       " 'home_won': Counter({'home_won': 1159, 'home_list': 392})}"
      ]
     },
     "execution_count": 145,
     "metadata": {},
     "output_type": "execute_result"
    }
   ],
   "source": [
    "from collections import Counter\n",
    "\n",
    "{k: Counter(v) for k,v in matrix.items()}"
   ]
  },
  {
   "cell_type": "code",
   "execution_count": 135,
   "metadata": {},
   "outputs": [],
   "source": [
    "clf.feature_importances_\n",
    "X = ml_df[['Date_month','Date_year','Date_day','Home','Home_line','Away','Away_line']]\n"
   ]
  },
  {
   "cell_type": "code",
   "execution_count": 97,
   "metadata": {},
   "outputs": [],
   "source": [
    "from sklearn.preprocessing import StandardScaler\n",
    "\n",
    "# Create a StandardScater model and fit it to the training data\n",
    "\n",
    "### BEGIN SOLUTION\n",
    "X_scaler = StandardScaler().fit(X_train)\n",
    "y_scaler = StandardScaler().fit(y_train)"
   ]
  },
  {
   "cell_type": "code",
   "execution_count": 98,
   "metadata": {},
   "outputs": [],
   "source": [
    "\n",
    "### BEGIN SOLUTION\n",
    "X_train_scaled = X_scaler.transform(X_train)\n",
    "X_test_scaled = X_scaler.transform(X_test)\n",
    "y_train_scaled = y_scaler.transform(y_train)\n",
    "y_test_scaled = y_scaler.transform(y_test)\n",
    "### END SOLUTION"
   ]
  },
  {
   "cell_type": "code",
   "execution_count": 99,
   "metadata": {},
   "outputs": [
    {
     "data": {
      "text/plain": [
       "LinearRegression(copy_X=True, fit_intercept=True, n_jobs=1, normalize=False)"
      ]
     },
     "execution_count": 99,
     "metadata": {},
     "output_type": "execute_result"
    }
   ],
   "source": [
    "from sklearn.linear_model import LinearRegression\n",
    "model = LinearRegression()\n",
    "model.fit(X_train_scaled, y_train_scaled)"
   ]
  },
  {
   "cell_type": "code",
   "execution_count": 100,
   "metadata": {},
   "outputs": [
    {
     "data": {
      "text/plain": [
       "LinearRegression(copy_X=True, fit_intercept=True, n_jobs=1, normalize=False)"
      ]
     },
     "execution_count": 100,
     "metadata": {},
     "output_type": "execute_result"
    }
   ],
   "source": [
    "predictions = model.predict(X_test_scaled)\n",
    "model.fit(X_train_scaled, y_train_scaled)"
   ]
  },
  {
   "cell_type": "code",
   "execution_count": 101,
   "metadata": {},
   "outputs": [
    {
     "data": {
      "text/plain": [
       "array([[ 0.10499212],\n",
       "       [ 0.02918523],\n",
       "       [-0.27955596],\n",
       "       ...,\n",
       "       [ 0.08912782],\n",
       "       [ 0.11350673],\n",
       "       [ 0.27184328]])"
      ]
     },
     "execution_count": 101,
     "metadata": {},
     "output_type": "execute_result"
    }
   ],
   "source": [
    "predictions"
   ]
  },
  {
   "cell_type": "code",
   "execution_count": 56,
   "metadata": {},
   "outputs": [],
   "source": [
    "ML_dict = {}\n",
    "ML_dict['Anaheim Ducks'] = 1\n",
    "ML_dict['Arizona Coyotes'] = 2\n",
    "# rename_dict['Atlanta Thrashers'] = 'Winnipeg Jets'\n",
    "ML_dict['Boston Bruins'] = 3\n",
    "ML_dict['Buffalo Sabres'] = 4\n",
    "ML_dict['Calgary Flames'] = 5\n",
    "ML_dict['Carolina Hurricanes'] = 6\n",
    "ML_dict['Chicago Blackhawks'] = 7\n",
    "ML_dict['Colorado Avalanche'] = 8\n",
    "ML_dict['Columbus Blue Jackets'] = 9\n",
    "ML_dict['Dallas Stars'] = 10\n",
    "ML_dict['Detroit Red Wings'] = 11\n",
    "ML_dict['Edmonton Oilers'] = 12\n",
    "ML_dict['Florida Panthers'] = 13\n",
    "ML_dict['Los Angeles Kings'] = 14\n",
    "ML_dict['Minnesota Wild'] = 15\n",
    "ML_dict['Montreal Canadiens'] = 16\n",
    "ML_dict['Nashville Predators'] = 17\n",
    "ML_dict['New Jersey Devils'] = 18\n",
    "ML_dict['New York Rangers'] = 19\n",
    "ML_dict['New York Islanders'] = 20\n",
    "ML_dict['Ottawa Senators'] = 21\n",
    "ML_dict['Philadelphia Flyers'] = 22\n",
    "# ML_dict['Phoenix Coyotes'] = 23\n",
    "ML_dict['Pittsburgh Penguins'] = 23\n",
    "ML_dict['San Jose Sharks'] = 24\n",
    "ML_dict['St. Louis Blues'] = 25\n",
    "ML_dict['Tampa Bay Lightning'] = 26\n",
    "ML_dict['Toronto Maple Leafs'] = 27\n",
    "ML_dict['Vancouver Canucks'] = 28\n",
    "ML_dict['Vegas Golden Knights'] = 29\n",
    "ML_dict['Washington Capitals'] = 30\n",
    "ML_dict['Winnipeg Jets'] = 31\n",
    "# rename_dict['New Jersey Devils'] = 'New Jersey Devils'"
   ]
  },
  {
   "cell_type": "code",
   "execution_count": 30,
   "metadata": {},
   "outputs": [],
   "source": [
    "with open('project3_df.pkl', 'wb') as f:\n",
    "    pickle.dump(roro, f, pickle.HIGHEST_PROTOCOL)"
   ]
  },
  {
   "cell_type": "code",
   "execution_count": null,
   "metadata": {},
   "outputs": [],
   "source": [
    "# XGBOOST"
   ]
  }
 ],
 "metadata": {
  "kernelspec": {
   "display_name": "Python 3",
   "language": "python",
   "name": "python3"
  },
  "language_info": {
   "codemirror_mode": {
    "name": "ipython",
    "version": 3
   },
   "file_extension": ".py",
   "mimetype": "text/x-python",
   "name": "python",
   "nbconvert_exporter": "python",
   "pygments_lexer": "ipython3",
   "version": "3.7.0"
  }
 },
 "nbformat": 4,
 "nbformat_minor": 2
}
